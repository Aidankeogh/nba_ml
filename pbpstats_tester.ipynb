{
 "cells": [
  {
   "cell_type": "code",
   "execution_count": 1,
   "metadata": {},
   "outputs": [],
   "source": [
    "from pbpstats.stats_game_data import StatsGameData\n",
    "\n",
    "game_data = StatsGameData('0041800406')\n",
    "game_data.get_game_data()"
   ]
  },
  {
   "cell_type": "code",
   "execution_count": 2,
   "metadata": {},
   "outputs": [],
   "source": [
    "game_data.get_game_data(ignore_rebound_and_shot_order=True)"
   ]
  },
  {
   "cell_type": "code",
   "execution_count": null,
   "metadata": {},
   "outputs": [],
   "source": []
  },
  {
   "cell_type": "code",
   "execution_count": 4,
   "metadata": {},
   "outputs": [
    {
     "name": "stdout",
     "output_type": "stream",
     "text": [
      "{'1610612761': defaultdict(<function StatsPeriod.set_base_possession_details.<locals>.<lambda> at 0x7fcdbc580a60>, {'1627783-200768-201188-201980-202695': defaultdict(<function StatsPeriod.set_base_possession_details.<locals>.<lambda>.<locals>.<lambda> at 0x7fcdacba8950>, {'1626172-201939-202691-203110-2738': defaultdict(<function StatsPeriod.set_base_possession_details.<locals>.<lambda>.<locals>.<lambda>.<locals>.<lambda> at 0x7fcdacba89d8>, {'1627783': defaultdict(<class 'int'>, {'SecondsPlayedOff': 25.0, 'Period1Fouls1SecondsPlayedOff': 25.0, 'ShortMidRangeBlockedOffReboundOpportunities': 1, 'OffPoss': 1}), '200768': defaultdict(<class 'int'>, {'SecondsPlayedOff': 25.0, 'Period1Fouls0SecondsPlayedOff': 25.0, 'ShortMidRangeBlocked': 1, 'Total2ptShotDistance': 7.1, 'Total2ptShotsWithDistance': 1, 'ShortMidRangeBlockedOffReboundOpportunities': 1, 'ShortMidRangeBlockedOffReboundedOpportunities': 1, 'OffPoss': 1}), '201188': defaultdict(<class 'int'>, {'SecondsPlayedOff': 25.0, 'Period1Fouls1SecondsPlayedOff': 25.0, 'ShortMidRangeBlockedOffReboundOpportunities': 1, 'OffPoss': 1}), '201980': defaultdict(<class 'int'>, {'SecondsPlayedOff': 25.0, 'Period1Fouls0SecondsPlayedOff': 25.0, 'ShortMidRangeBlockedOffReboundOpportunities': 1, 'OffPoss': 1}), '202695': defaultdict(<class 'int'>, {'SecondsPlayedOff': 25.0, 'Period1Fouls0SecondsPlayedOff': 25.0, 'ShortMidRangeBlockedOffReboundOpportunities': 1, 'OffPoss': 1})})})}), '1610612744': defaultdict(<function StatsPeriod.set_base_possession_details.<locals>.<lambda> at 0x7fcdbc580ae8>, {'1626172-201939-202691-203110-2738': defaultdict(<function StatsPeriod.set_base_possession_details.<locals>.<lambda>.<locals>.<lambda> at 0x7fcdacba8840>, {'1627783-200768-201188-201980-202695': defaultdict(<function StatsPeriod.set_base_possession_details.<locals>.<lambda>.<locals>.<lambda>.<locals>.<lambda> at 0x7fcdacba88c8>, {'1626172': defaultdict(<class 'int'>, {'SecondsPlayedDef': 25.0, 'Period1Fouls0SecondsPlayedDef': 25.0, 'ShortMidRangeBlockedDefReboundOpportunities': 1, 'DefPoss': 1}), '201939': defaultdict(<class 'int'>, {'SecondsPlayedDef': 25.0, 'Period1Fouls0SecondsPlayedDef': 25.0, 'ShortMidRangeBlockedDefReboundOpportunities': 1, 'DefPoss': 1}), '202691': defaultdict(<class 'int'>, {'SecondsPlayedDef': 25.0, 'Period1Fouls0SecondsPlayedDef': 25.0, 'ShortMidRangeBlockedDefReboundOpportunities': 1, 'DefPoss': 1}), '203110': defaultdict(<class 'int'>, {'SecondsPlayedDef': 25.0, 'Period1Fouls0SecondsPlayedDef': 25.0, 'ShortMidRangeBlockedDefRebounds': 1, 'ShortMidRangeBlockedDefReboundOpportunities': 1, 'DefPoss': 1}), '2738': defaultdict(<class 'int'>, {'SecondsPlayedDef': 25.0, 'Period1Fouls0SecondsPlayedDef': 25.0, 'BlockedShortMidRange': 1, 'BlockedShortMidRangeRecovered': 1, 'ShortMidRangeBlockedDefReboundOpportunities': 1, 'DefPoss': 1})})})})}\n"
     ]
    }
   ],
   "source": [
    "possession = game_data.Periods[0].Possessions[12].PlayerStats\n",
    "\n",
    "print(possession)"
   ]
  },
  {
   "cell_type": "code",
   "execution_count": 10,
   "metadata": {},
   "outputs": [
    {
     "data": {
      "text/plain": [
       "dict_keys(['1610612761', '1610612744'])"
      ]
     },
     "execution_count": 10,
     "metadata": {},
     "output_type": "execute_result"
    }
   ],
   "source": [
    "possession.keys()\n",
    "# I believe these are for team 1 & team 2"
   ]
  },
  {
   "cell_type": "code",
   "execution_count": 11,
   "metadata": {},
   "outputs": [
    {
     "data": {
      "text/plain": [
       "dict_keys(['1627783-200768-201188-201980-202695'])"
      ]
     },
     "execution_count": 11,
     "metadata": {},
     "output_type": "execute_result"
    }
   ],
   "source": [
    "possession['1610612761'].keys() \n",
    "# I believe these are the player IDs on team 1"
   ]
  },
  {
   "cell_type": "code",
   "execution_count": 31,
   "metadata": {},
   "outputs": [
    {
     "data": {
      "text/plain": [
       "defaultdict(<function pbpstats.stats_period.StatsPeriod.set_base_possession_details.<locals>.<lambda>.<locals>.<lambda>.<locals>.<lambda>()>,\n",
       "            {'1627783': defaultdict(int,\n",
       "                         {'SecondsPlayedOff': 25.0,\n",
       "                          'Period1Fouls1SecondsPlayedOff': 25.0,\n",
       "                          'ShortMidRangeBlockedOffReboundOpportunities': 1,\n",
       "                          'OffPoss': 1}),\n",
       "             '200768': defaultdict(int,\n",
       "                         {'SecondsPlayedOff': 25.0,\n",
       "                          'Period1Fouls0SecondsPlayedOff': 25.0,\n",
       "                          'ShortMidRangeBlocked': 1,\n",
       "                          'Total2ptShotDistance': 7.1,\n",
       "                          'Total2ptShotsWithDistance': 1,\n",
       "                          'ShortMidRangeBlockedOffReboundOpportunities': 1,\n",
       "                          'ShortMidRangeBlockedOffReboundedOpportunities': 1,\n",
       "                          'OffPoss': 1}),\n",
       "             '201188': defaultdict(int,\n",
       "                         {'SecondsPlayedOff': 25.0,\n",
       "                          'Period1Fouls1SecondsPlayedOff': 25.0,\n",
       "                          'ShortMidRangeBlockedOffReboundOpportunities': 1,\n",
       "                          'OffPoss': 1}),\n",
       "             '201980': defaultdict(int,\n",
       "                         {'SecondsPlayedOff': 25.0,\n",
       "                          'Period1Fouls0SecondsPlayedOff': 25.0,\n",
       "                          'ShortMidRangeBlockedOffReboundOpportunities': 1,\n",
       "                          'OffPoss': 1}),\n",
       "             '202695': defaultdict(int,\n",
       "                         {'SecondsPlayedOff': 25.0,\n",
       "                          'Period1Fouls0SecondsPlayedOff': 25.0,\n",
       "                          'ShortMidRangeBlockedOffReboundOpportunities': 1,\n",
       "                          'OffPoss': 1})})"
      ]
     },
     "execution_count": 31,
     "metadata": {},
     "output_type": "execute_result"
    }
   ],
   "source": [
    "possession['1610612761']['1627783-200768-201188-201980-202695']['1626172-201939-202691-203110-2738']"
   ]
  },
  {
   "cell_type": "code",
   "execution_count": 41,
   "metadata": {},
   "outputs": [
    {
     "name": "stdout",
     "output_type": "stream",
     "text": [
      "{'id': 1627783, 'full_name': 'Pascal Siakam', 'first_name': 'Pascal', 'last_name': 'Siakam', 'is_active': True}\n",
      "{'id': 201939, 'full_name': 'Stephen Curry', 'first_name': 'Stephen', 'last_name': 'Curry', 'is_active': True}\n"
     ]
    }
   ],
   "source": [
    "from nba_api.stats.static import players\n",
    "print(players.find_player_by_id('1627783'))\n",
    "print(players.find_player_by_id('201939'))\n",
    "# Looks like player 1 on team 1 is pascal siakam\n",
    "# Looks like player 2 on team 2 is your boy Stephen Curry"
   ]
  },
  {
   "cell_type": "code",
   "execution_count": 36,
   "metadata": {},
   "outputs": [
    {
     "name": "stdout",
     "output_type": "stream",
     "text": [
      "{'id': 200768, 'full_name': 'Kyle Lowry', 'first_name': 'Kyle', 'last_name': 'Lowry', 'is_active': True}\n"
     ]
    },
    {
     "data": {
      "text/plain": [
       "defaultdict(int,\n",
       "            {'SecondsPlayedOff': 25.0,\n",
       "             'Period1Fouls0SecondsPlayedOff': 25.0,\n",
       "             'ShortMidRangeBlocked': 1,\n",
       "             'Total2ptShotDistance': 7.1,\n",
       "             'Total2ptShotsWithDistance': 1,\n",
       "             'ShortMidRangeBlockedOffReboundOpportunities': 1,\n",
       "             'ShortMidRangeBlockedOffReboundedOpportunities': 1,\n",
       "             'OffPoss': 1})"
      ]
     },
     "execution_count": 36,
     "metadata": {},
     "output_type": "execute_result"
    }
   ],
   "source": [
    "print(players.find_player_by_id('200768'))\n",
    "# Okay, accessing this looks really fuckin gooby. Looks like it's\n",
    "# Posession[team_ID][players_on_team][players_on_opposing][playerID]\n",
    "# But here we can see that in this posession, kyle lowry played 25 seconds, \n",
    "# Then took a midrange shot 7.1 feet from the basket, but it was blocked. \n",
    "possession['1610612761']['1627783-200768-201188-201980-202695']['1626172-201939-202691-203110-2738']['200768']"
   ]
  },
  {
   "cell_type": "code",
   "execution_count": 40,
   "metadata": {},
   "outputs": [
    {
     "data": {
      "text/plain": [
       "[<PbpEvent: Description: Iguodala BLOCK (1 BLK): MISS Lowry 7' Driving Layup, Time: 8:50, EventNum: 37>,\n",
       " <PbpEvent: Description: Green REBOUND (Off:0 Def:1), Time: 8:48, EventNum: 39>]"
      ]
     },
     "execution_count": 40,
     "metadata": {},
     "output_type": "execute_result"
    }
   ],
   "source": [
    "# Looks from the events like that was right\n",
    "game_data.Periods[0].Possessions[12].Events"
   ]
  },
  {
   "cell_type": "code",
   "execution_count": null,
   "metadata": {},
   "outputs": [],
   "source": []
  }
 ],
 "metadata": {
  "kernelspec": {
   "display_name": "Python 3",
   "language": "python",
   "name": "python3"
  },
  "language_info": {
   "codemirror_mode": {
    "name": "ipython",
    "version": 3
   },
   "file_extension": ".py",
   "mimetype": "text/x-python",
   "name": "python",
   "nbconvert_exporter": "python",
   "pygments_lexer": "ipython3",
   "version": "3.6.8"
  }
 },
 "nbformat": 4,
 "nbformat_minor": 2
}

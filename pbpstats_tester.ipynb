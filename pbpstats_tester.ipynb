{
 "cells": [
  {
   "cell_type": "code",
   "execution_count": 2,
   "metadata": {},
   "outputs": [],
   "source": [
    "from pbpstats.stats_game_data import StatsGameData\n",
    "\n",
    "game_data = StatsGameData('0041800406')\n",
    "game_data.get_game_data()"
   ]
  },
  {
   "cell_type": "code",
   "execution_count": 3,
   "metadata": {},
   "outputs": [],
   "source": [
    "game_data.get_game_data(ignore_rebound_and_shot_order=True)"
   ]
  },
  {
   "cell_type": "code",
   "execution_count": null,
   "metadata": {},
   "outputs": [],
   "source": []
  },
  {
   "cell_type": "code",
   "execution_count": 8,
   "metadata": {},
   "outputs": [
    {
     "name": "stdout",
     "output_type": "stream",
     "text": [
      "{'1610612761': defaultdict(<function StatsPeriod.set_base_possession_details.<locals>.<lambda> at 0x7fd161003d90>, {'1627783-200768-201188-201980-202695': defaultdict(<function StatsPeriod.set_base_possession_details.<locals>.<lambda>.<locals>.<lambda> at 0x7fd1604149d8>, {'1626172-201939-202691-203110-2738': defaultdict(<function StatsPeriod.set_base_possession_details.<locals>.<lambda>.<locals>.<lambda>.<locals>.<lambda> at 0x7fd160414a60>, {'1627783': defaultdict(<class 'int'>, {'SecondsPlayedOff': 25.0, 'Period1Fouls1SecondsPlayedOff': 25.0, 'ShortMidRangeBlockedOffReboundOpportunities': 1, 'OffPoss': 1}), '200768': defaultdict(<class 'int'>, {'SecondsPlayedOff': 25.0, 'Period1Fouls0SecondsPlayedOff': 25.0, 'ShortMidRangeBlocked': 1, 'Total2ptShotDistance': 7.1, 'Total2ptShotsWithDistance': 1, 'ShortMidRangeBlockedOffReboundOpportunities': 1, 'ShortMidRangeBlockedOffReboundedOpportunities': 1, 'OffPoss': 1}), '201188': defaultdict(<class 'int'>, {'SecondsPlayedOff': 25.0, 'Period1Fouls1SecondsPlayedOff': 25.0, 'ShortMidRangeBlockedOffReboundOpportunities': 1, 'OffPoss': 1}), '201980': defaultdict(<class 'int'>, {'SecondsPlayedOff': 25.0, 'Period1Fouls0SecondsPlayedOff': 25.0, 'ShortMidRangeBlockedOffReboundOpportunities': 1, 'OffPoss': 1}), '202695': defaultdict(<class 'int'>, {'SecondsPlayedOff': 25.0, 'Period1Fouls0SecondsPlayedOff': 25.0, 'ShortMidRangeBlockedOffReboundOpportunities': 1, 'OffPoss': 1})})})}), '1610612744': defaultdict(<function StatsPeriod.set_base_possession_details.<locals>.<lambda> at 0x7fd1648b52f0>, {'1626172-201939-202691-203110-2738': defaultdict(<function StatsPeriod.set_base_possession_details.<locals>.<lambda>.<locals>.<lambda> at 0x7fd1604148c8>, {'1627783-200768-201188-201980-202695': defaultdict(<function StatsPeriod.set_base_possession_details.<locals>.<lambda>.<locals>.<lambda>.<locals>.<lambda> at 0x7fd160414950>, {'1626172': defaultdict(<class 'int'>, {'SecondsPlayedDef': 25.0, 'Period1Fouls0SecondsPlayedDef': 25.0, 'ShortMidRangeBlockedDefReboundOpportunities': 1, 'DefPoss': 1}), '201939': defaultdict(<class 'int'>, {'SecondsPlayedDef': 25.0, 'Period1Fouls0SecondsPlayedDef': 25.0, 'ShortMidRangeBlockedDefReboundOpportunities': 1, 'DefPoss': 1}), '202691': defaultdict(<class 'int'>, {'SecondsPlayedDef': 25.0, 'Period1Fouls0SecondsPlayedDef': 25.0, 'ShortMidRangeBlockedDefReboundOpportunities': 1, 'DefPoss': 1}), '203110': defaultdict(<class 'int'>, {'SecondsPlayedDef': 25.0, 'Period1Fouls0SecondsPlayedDef': 25.0, 'ShortMidRangeBlockedDefRebounds': 1, 'ShortMidRangeBlockedDefReboundOpportunities': 1, 'DefPoss': 1}), '2738': defaultdict(<class 'int'>, {'SecondsPlayedDef': 25.0, 'Period1Fouls0SecondsPlayedDef': 25.0, 'BlockedShortMidRange': 1, 'BlockedShortMidRangeRecovered': 1, 'ShortMidRangeBlockedDefReboundOpportunities': 1, 'DefPoss': 1})})})})}\n"
     ]
    }
   ],
   "source": [
    "print(game_data.Periods[0].Possessions[12].PlayerStats)"
   ]
  },
  {
   "cell_type": "code",
   "execution_count": null,
   "metadata": {},
   "outputs": [],
   "source": []
  }
 ],
 "metadata": {
  "kernelspec": {
   "display_name": "Python 3",
   "language": "python",
   "name": "python3"
  },
  "language_info": {
   "codemirror_mode": {
    "name": "ipython",
    "version": 3
   },
   "file_extension": ".py",
   "mimetype": "text/x-python",
   "name": "python",
   "nbconvert_exporter": "python",
   "pygments_lexer": "ipython3",
   "version": "3.6.8"
  }
 },
 "nbformat": 4,
 "nbformat_minor": 2
}

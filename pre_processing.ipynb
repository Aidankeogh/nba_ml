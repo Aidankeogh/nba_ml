{
 "cells": [
  {
   "cell_type": "code",
   "execution_count": 1,
   "metadata": {},
   "outputs": [
    {
     "data": {
      "text/plain": [
       "<torch._C.Generator at 0x7f4814ee1310>"
      ]
     },
     "execution_count": 1,
     "metadata": {},
     "output_type": "execute_result"
    }
   ],
   "source": [
    "import glob\n",
    "import json\n",
    "import numpy as np"
   ]
  },
  {
   "cell_type": "code",
   "execution_count": 2,
   "metadata": {},
   "outputs": [],
   "source": [
    "years = glob.glob('nba_lineup_data/*')\n",
    "lineups = []\n",
    "y = None\n",
    "for year in years:\n",
    "    year_dict = json.load(open(year,'r'))\n",
    "    for k, v in year_dict.items():\n",
    "        lineups.append((k,v))"
   ]
  },
  {
   "cell_type": "code",
   "execution_count": 3,
   "metadata": {},
   "outputs": [],
   "source": [
    "player_to_idx = {}\n",
    "idx_to_player = []\n",
    "normal_name_to_idx = {}\n",
    "i = 0\n",
    "for lineup in lineups:\n",
    "    l = eval(lineup[0])\n",
    "    o_lineup = l[0]\n",
    "    d_lineup = l[1]\n",
    "    for player in o_lineup + d_lineup:\n",
    "        if player not in player_to_idx:\n",
    "            player_to_idx[player] = i\n",
    "            normal_name_to_idx[player.split('*')[0].lower()] = i\n",
    "            idx_to_player.append(player)\n",
    "            i += 1"
   ]
  },
  {
   "cell_type": "code",
   "execution_count": 30,
   "metadata": {},
   "outputs": [
    {
     "name": "stdout",
     "output_type": "stream",
     "text": [
      "([161, 330, 35, 257, 64], [184, 353, 136, 218, 137], array([[0.4 , 0.5 , 0.4 , 0.  , 0.  , 0.  , 0.  , 0.4 , 0.2 , 0.  , 0.  ,\n",
      "        0.  , 0.  ],\n",
      "       [0.  , 0.  , 0.  , 0.  , 0.  , 0.  , 0.  , 0.  , 0.  , 0.  , 0.  ,\n",
      "        0.  , 0.  ],\n",
      "       [0.6 , 1.5 , 0.2 , 0.  , 0.  , 0.  , 0.  , 0.  , 0.  , 0.2 , 0.2 ,\n",
      "        0.  , 0.  ],\n",
      "       [0.  , 0.  , 0.  , 0.2 , 0.  , 0.  , 0.  , 0.  , 0.  , 0.  , 0.  ,\n",
      "        0.  , 0.  ],\n",
      "       [1.  , 1.25, 0.4 , 0.4 , 0.  , 0.  , 0.  , 0.2 , 0.2 , 0.2 , 0.2 ,\n",
      "        0.  , 0.  ],\n",
      "       [0.  , 0.  , 0.  , 0.  , 0.  , 0.  , 0.  , 0.  , 0.  , 0.  , 0.  ,\n",
      "        0.  , 0.  ],\n",
      "       [0.  , 0.  , 0.  , 0.  , 0.  , 0.  , 0.  , 0.  , 0.  , 0.  , 0.  ,\n",
      "        0.  , 0.  ],\n",
      "       [0.  , 0.  , 0.  , 0.  , 0.2 , 0.  , 0.  , 0.  , 0.  , 0.  , 0.  ,\n",
      "        0.  , 0.  ],\n",
      "       [0.  , 0.  , 0.  , 0.  , 0.  , 0.  , 0.  , 0.  , 0.  , 0.  , 0.  ,\n",
      "        0.  , 0.  ],\n",
      "       [0.  , 0.  , 0.  , 0.  , 0.  , 0.  , 0.  , 0.  , 0.  , 0.  , 0.  ,\n",
      "        0.  , 0.  ]]), (5, 2.0))\n"
     ]
    }
   ],
   "source": [
    "all_stats = ['PTS','TS%','FGA','AST','REB','STL','BLK','2PA','2PM','3PA','3PM','FTA','FTM']\n",
    "def get_normalized_team_stats(lineup,info):\n",
    "    box = info['box']\n",
    "    l = eval(lineup)\n",
    "    o_lineup = [player_to_idx[p] for p in l[0]]\n",
    "    d_lineup = [player_to_idx[p] for p in l[1]]\n",
    "    num = info['num']\n",
    "    meta = (num, info['score']/num)\n",
    "    statsheet = np.zeros((10,13))\n",
    "    for i, player in enumerate((l[0]+l[1])[:10]):\n",
    "        for j, stat in enumerate(all_stats):\n",
    "            if player in box and stat in box[player]:\n",
    "                statsheet[i][j] = box[player][stat] * 1.0 / num\n",
    "        #TS% = 0.5 * pts / (FGA + .44 * FTA)\n",
    "        denom = (statsheet[i][2] + .44 * statsheet[i][11])\n",
    "        if denom > 0:\n",
    "            statsheet[i][1] = 0.5 * statsheet[i][0] / denom\n",
    "            \n",
    "    return o_lineup, d_lineup, statsheet, meta"
   ]
  },
  {
   "cell_type": "code",
   "execution_count": 31,
   "metadata": {},
   "outputs": [],
   "source": [
    "lineups = [get_normalized_team_stats(l[0],l[1]) for l in lineups]"
   ]
  },
  {
   "cell_type": "code",
   "execution_count": 35,
   "metadata": {},
   "outputs": [],
   "source": [
    "import pickle\n",
    "with open(\"processed_data/pickled_lineups1998-2018\",'wb') as outfile:\n",
    "    pickle.dump(lineups,outfile)"
   ]
  },
  {
   "cell_type": "code",
   "execution_count": 39,
   "metadata": {},
   "outputs": [],
   "source": [
    "with open(\"processed_data/lineup_metadata1998-2018\",'wb') as outfile:\n",
    "    pickle.dump((player_to_idx, idx_to_player, normal_name_to_idx, all_stats), outfile)"
   ]
  },
  {
   "cell_type": "code",
   "execution_count": null,
   "metadata": {},
   "outputs": [],
   "source": []
  }
 ],
 "metadata": {
  "kernelspec": {
   "display_name": "Python 3",
   "language": "python",
   "name": "python3"
  },
  "language_info": {
   "codemirror_mode": {
    "name": "ipython",
    "version": 3
   },
   "file_extension": ".py",
   "mimetype": "text/x-python",
   "name": "python",
   "nbconvert_exporter": "python",
   "pygments_lexer": "ipython3",
   "version": "3.6.0"
  }
 },
 "nbformat": 4,
 "nbformat_minor": 2
}

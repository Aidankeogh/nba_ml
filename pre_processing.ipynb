{
 "cells": [
  {
   "cell_type": "code",
   "execution_count": 1,
   "metadata": {},
   "outputs": [],
   "source": [
    "import glob\n",
    "import json\n",
    "import numpy as np\n",
    "import random"
   ]
  },
  {
   "cell_type": "code",
   "execution_count": 2,
   "metadata": {},
   "outputs": [],
   "source": [
    "years = glob.glob('nba_lineup_data/*')\n",
    "lineups = []\n",
    "y = None\n",
    "for year in years:\n",
    "    year_dict = json.load(open(year,'r'))\n",
    "    for k, v in year_dict.items():\n",
    "        lineups.append((k,v))"
   ]
  },
  {
   "cell_type": "code",
   "execution_count": 3,
   "metadata": {},
   "outputs": [
    {
     "name": "stdout",
     "output_type": "stream",
     "text": [
      "(['Josh Childress*ID:2735', 'Josh Smith*ID:2746', 'Marvin Williams*ID:101107', 'Tyronn Lue*ID:1731', 'Zaza Pachulia*ID:2585'], ['Aaron Williams*ID:1425', 'Al Thornton*ID:201154', 'Brevin Knight*ID:1510', 'Cuttino Mobley*ID:1749', 'Quinton Ross*ID:2624'])\n"
     ]
    }
   ],
   "source": [
    "print(eval(lineups[1][0]))"
   ]
  },
  {
   "cell_type": "code",
   "execution_count": 4,
   "metadata": {},
   "outputs": [],
   "source": [
    "player_to_idx = {}\n",
    "idx_to_player = []\n",
    "normal_name_to_idx = {}\n",
    "i = 0\n",
    "for lineup in lineups:\n",
    "    l = eval(lineup[0])\n",
    "    o_lineup = l[0]\n",
    "    d_lineup = l[1]\n",
    "    for player in o_lineup + d_lineup:\n",
    "        if player not in player_to_idx:\n",
    "            player_to_idx[player] = i\n",
    "            normal_name_to_idx[player.split('*')[0].lower()] = i\n",
    "            idx_to_player.append(player)\n",
    "            i += 1"
   ]
  },
  {
   "cell_type": "code",
   "execution_count": 5,
   "metadata": {},
   "outputs": [
    {
     "name": "stdout",
     "output_type": "stream",
     "text": [
      "(\"([u'Josh Childress*ID:2735', u'Josh Smith*ID:2746', u'Marvin Williams*ID:101107', u'Tyronn Lue*ID:1731', u'Zaza Pachulia*ID:2585'], [u'Aaron Williams*ID:1425', u'Al Thornton*ID:201154', u'Brevin Knight*ID:1510', u'Cuttino Mobley*ID:1749', u'Quinton Ross*ID:2624'])\", {'box': {'Josh Childress*ID:2735': {'2PA': 2, 'FGA': 2}, 'Josh Smith*ID:2746': {'2PA': 1, 'FGM': 1, 'PTS': 2, 'FGA': 1, '2PM': 1}, 'Cuttino Mobley*ID:1749': {'REB': 1, 'DRB': 1}, 'Marvin Williams*ID:101107': {'2PA': 2, 'FGM': 2, 'REB': 1, 'ORB': 1, 'TOV': 1, 'PTS': 4, 'FGA': 2, '2PM': 2}, 'Tyronn Lue*ID:1731': {'3PA': 1, 'TOV': 1, 'FGA': 1, 'AST': 1}, 'Al Thornton*ID:201154': {'REB': 1, 'DRB': 1}}, 'num': 7, 'score': 6})\n"
     ]
    }
   ],
   "source": [
    "print(lineups[1])"
   ]
  },
  {
   "cell_type": "code",
   "execution_count": null,
   "metadata": {},
   "outputs": [],
   "source": []
  },
  {
   "cell_type": "code",
   "execution_count": 6,
   "metadata": {},
   "outputs": [],
   "source": [
    "off_stat_labels = ['PTS','TSA','FGA','AST','REB','2PA','2PM','3PA','3PM','FTA','FTM']\n",
    "def_stat_labels = ['REB','STL','BLK']\n",
    "def get_normalized_team_stats(lineup, info):\n",
    "    box = info['box']\n",
    "    l = eval(lineup)\n",
    "    o_lineup = [player_to_idx[p] for p in l[0]]\n",
    "    d_lineup = [player_to_idx[p] for p in l[1]]\n",
    "    num = info['num']\n",
    "    meta = (num, info['score']/num)\n",
    "    off_stats = np.zeros((5,11))\n",
    "    def_stats = np.zeros((5,3))\n",
    "    for i, player in enumerate(l[0][:5]):\n",
    "        for j, stat in enumerate(off_stat_labels):\n",
    "            if player in box and stat in box[player]:\n",
    "                off_stats[i][j] = box[player][stat] * 1.0 / num\n",
    "        #TSA = FGA + .44 * FTA\n",
    "        off_stats[i][1] = (off_stats[i][2] + .44 * off_stats[i][9])\n",
    "            \n",
    "    for i, player in enumerate(l[1][:5]):\n",
    "        for j, stat in enumerate(def_stat_labels):\n",
    "            if player in box and stat in box[player]:\n",
    "                def_stats[i][j] = box[player][stat] * 1.0 / num\n",
    "            \n",
    "    return o_lineup, d_lineup, off_stats, def_stats, meta"
   ]
  },
  {
   "cell_type": "code",
   "execution_count": 7,
   "metadata": {},
   "outputs": [],
   "source": [
    "lineups_parsed = [get_normalized_team_stats(l[0],l[1]) for l in lineups]"
   ]
  },
  {
   "cell_type": "code",
   "execution_count": 8,
   "metadata": {},
   "outputs": [],
   "source": [
    "def get_appx_norms(dset): \n",
    "    order = [i for i in range(len(dset))]\n",
    "    random.shuffle(order)\n",
    "    n_samples = 50000\n",
    "    obox = np.zeros((n_samples*5,11))\n",
    "    dbox = np.zeros((n_samples*5,3))\n",
    "    full_plusminus = np.zeros(n_samples)\n",
    "    for i, o in enumerate(order):\n",
    "        if(i >= n_samples):\n",
    "            break\n",
    "        offense, defense, offbox, defbox, (n_pos, score_change) = dset[o]\n",
    "        obox[i*5:(i+1)*5] = offbox\n",
    "        dbox[i*5:(i+1)*5] = defbox\n",
    "        full_plusminus[i] = score_change\n",
    "        \n",
    "    return(obox.mean(axis=0),\n",
    "           obox.std(axis=0),\n",
    "           dbox.mean(axis=0),\n",
    "           dbox.std(axis=0),\n",
    "           full_plusminus.mean(),\n",
    "           full_plusminus.std())\n",
    "\n",
    "obox_means, obox_stdevs, dbox_means, dbox_stdevs, pm_mean, pm_stdev = get_appx_norms(lineups_parsed)\n",
    "\n",
    "def normalize_lineup(lineup):\n",
    "    offense, defense, obox, dbox, (n_pos, pm) = lineup\n",
    "    obox = (obox - obox_means) * 1.0 / obox_stdevs\n",
    "    dbox = (dbox - dbox_means) * 1.0 / dbox_stdevs\n",
    "    pm = (pm - pm_mean) * 1.0 / pm_stdev\n",
    "    return offense, defense, np.float16(obox), np.float16(dbox), (n_pos, pm)\n",
    "\n",
    "def unnormalize(box, pm):\n",
    "    box = box * box_stdevs + box_means\n",
    "    pm = pm * pm_stdev + pm_mean\n",
    "    return box, pm\n"
   ]
  },
  {
   "cell_type": "code",
   "execution_count": 10,
   "metadata": {},
   "outputs": [],
   "source": [
    "norm_lineups = [normalize_lineup(l) for l in lineups_parsed]"
   ]
  },
  {
   "cell_type": "code",
   "execution_count": 11,
   "metadata": {},
   "outputs": [],
   "source": [
    "import pickle\n",
    "with open(\"processed_data/pickled_lineups1998-2018\",'wb') as outfile:\n",
    "    pickle.dump(norm_lineups,outfile)"
   ]
  },
  {
   "cell_type": "code",
   "execution_count": 14,
   "metadata": {},
   "outputs": [],
   "source": [
    "with open(\"processed_data/lineup_metadata1998-2018\",'wb') as outfile:\n",
    "    pickle.dump((player_to_idx, \n",
    "                 idx_to_player, \n",
    "                 normal_name_to_idx, \n",
    "                 off_stat_labels, \n",
    "                 def_stat_labels,\n",
    "                 obox_means,\n",
    "                 obox_stdevs,\n",
    "                 dbox_means,\n",
    "                 dbox_stdevs,\n",
    "                 pm_mean,\n",
    "                 pm_stdev), outfile)"
   ]
  },
  {
   "cell_type": "code",
   "execution_count": 15,
   "metadata": {},
   "outputs": [
    {
     "name": "stdout",
     "output_type": "stream",
     "text": [
      "([38, 39, 40, 41, 42], [43, 44, 45, 46, 47], array([[ 0.8413,  0.1849, -0.617 , -0.3037, -0.2089, -0.528 , -0.3652,\n",
      "        -0.281 , -0.1678,  3.578 ,  4.355 ],\n",
      "       [-0.442 , -0.6646, -0.617 , -0.3037, -0.2089, -0.528 , -0.3652,\n",
      "        -0.281 , -0.1678, -0.243 , -0.1917],\n",
      "       [-0.442 ,  1.267 ,  1.334 , -0.3037,  4.3   ,  1.658 , -0.3652,\n",
      "        -0.281 , -0.1678, -0.243 , -0.1917],\n",
      "       [-0.442 , -0.6646, -0.617 , -0.3037, -0.2089, -0.528 , -0.3652,\n",
      "        -0.281 , -0.1678, -0.243 , -0.1917],\n",
      "       [-0.442 ,  1.267 ,  1.334 , -0.3037, -0.2089,  1.658 , -0.3652,\n",
      "        -0.281 , -0.1678, -0.243 , -0.1917]], dtype=float16), array([[-0.37  , -0.1815, -0.1431],\n",
      "       [ 2.764 , -0.1815, -0.1431],\n",
      "       [-0.37  , -0.1815, -0.1431],\n",
      "       [-0.37  , -0.1815, -0.1431],\n",
      "       [-0.37  , -0.1815,  7.26  ]], dtype=float16), (2, 0.031834606643597746))\n"
     ]
    }
   ],
   "source": [
    "print(norm_lineups[4])"
   ]
  },
  {
   "cell_type": "code",
   "execution_count": null,
   "metadata": {},
   "outputs": [],
   "source": []
  }
 ],
 "metadata": {
  "kernelspec": {
   "display_name": "Python 3",
   "language": "python",
   "name": "python3"
  },
  "language_info": {
   "codemirror_mode": {
    "name": "ipython",
    "version": 3
   },
   "file_extension": ".py",
   "mimetype": "text/x-python",
   "name": "python",
   "nbconvert_exporter": "python",
   "pygments_lexer": "ipython3",
   "version": "3.6.8"
  }
 },
 "nbformat": 4,
 "nbformat_minor": 2
}
